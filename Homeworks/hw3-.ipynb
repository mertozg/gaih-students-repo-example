{
 "cells": [
  {
   "cell_type": "code",
   "execution_count": 9,
   "metadata": {},
   "outputs": [
    {
     "name": "stdout",
     "output_type": "stream",
     "text": [
      "Öğrenci adı giriniz: Halil Mert\n",
      "Öğrenci soy adı giriniz: ÖZGEN\n",
      "Öğrenci no giriniz: 31520519\n",
      "Vize notunu giriniz: 55\n",
      "Final notunu giriniz: 85\n",
      "Proje notunu giriniz: 70\n",
      "Halil Mert ÖZGEN isimli 31520519 no'lu öğrenci bu dersten 71.5 ortalama yapmıştır. ,\n",
      "\n",
      "Öğrenci adı giriniz: Senba\n",
      "Öğrenci soy adı giriniz: Ballı\n",
      "Öğrenci no giriniz: 32155847\n",
      "Vize notunu giriniz: 80\n",
      "Final notunu giriniz: 40\n",
      "Proje notunu giriniz: 60\n",
      "Senba Ballı isimli 32155847 no'lu öğrenci bu dersten 58.0 ortalama yapmıştır. ,\n",
      "\n",
      "Öğrenci adı giriniz: Mehmet\n",
      "Öğrenci soy adı giriniz: Çelik\n",
      "Öğrenci no giriniz: 65488237\n",
      "Vize notunu giriniz: 70\n",
      "Final notunu giriniz: 50\n",
      "Proje notunu giriniz: 50\n",
      "Mehmet Çelik isimli 65488237 no'lu öğrenci bu dersten 56.0 ortalama yapmıştır. ,\n",
      "\n",
      "Öğrenci adı giriniz: Zeynep \n",
      "Öğrenci soy adı giriniz: Durmuş\n",
      "Öğrenci no giriniz: 95423155\n",
      "Vize notunu giriniz: 40\n",
      "Final notunu giriniz: 2\n",
      "Proje notunu giriniz: 75\n",
      "Zeynep  Durmuş isimli 95423155 no'lu öğrenci bu dersten 35.3 ortalama yapmıştır. ,\n",
      "\n",
      "Öğrenci adı giriniz: Yavus\n",
      "Öğrenci soy adı giriniz: Selim\n",
      "Öğrenci no giriniz: 623\n",
      "Vize notunu giriniz: 55\n",
      "Final notunu giriniz: 66\n",
      "Proje notunu giriniz: 50\n",
      "Yavus Selim isimli 623 no'lu öğrenci bu dersten 57.900000000000006 ortalama yapmıştır. ,\n",
      "\n",
      "[71.5, 58.0, 56.0, 35.3, 57.900000000000006] \n",
      "\n",
      "{'name': [['Halil Mert', 'Senba', 'Mehmet', 'Zeynep ', 'Yavus']], 'surname': [['ÖZGEN', 'Ballı', 'Çelik', 'Durmuş', 'Selim']], 'student no': [[31520519, 32155847, 65488237, 95423155, 623]], 'passing grade': [[71.5, 58.0, 56.0, 35.3, 57.900000000000006]]} \n",
      "\n",
      "[71.5, 58.0, 57.900000000000006, 56.0, 35.3]\n"
     ]
    }
   ],
   "source": [
    "i=1\n",
    "nameList=[]\n",
    "surnameList=[]\n",
    "studentNoList=[]\n",
    "passinGradeList=[]\n",
    "students={}\n",
    "while i in range(1,6):\n",
    "    i += 1\n",
    "    studentName=input(\"Öğrenci adı giriniz: \")\n",
    "    studentSurname=input(\"Öğrenci soy adı giriniz: \")\n",
    "    studentNo=int(input(\"Öğrenci no giriniz: \"))\n",
    "    midTerm=int(input(\"Vize notunu giriniz: \"))\n",
    "    finalExam=int(input(\"Final notunu giriniz: \"))\n",
    "    project=int(input(\"Proje notunu giriniz: \"))\n",
    "    passingGrade=(0.3*midTerm)+(0.3*project)+(0.4*finalExam)\n",
    "    nameList.append(studentName)\n",
    "    surnameList.append(studentSurname)\n",
    "    studentNoList.append(studentNo)\n",
    "    passinGradeList.append(passingGrade)\n",
    "    students[\"name\"]=[nameList]\n",
    "    students[\"surname\"]=[surnameList]\n",
    "    students[\"student no\"]=[studentNoList]\n",
    "    students[\"passing grade\"]=[passinGradeList]\n",
    "    print(f\"{studentName +' '+ studentSurname} isimli {studentNo} no'lu öğrenci bu dersten {passingGrade} ortalama yapmıştır. ,\\n\")\n",
    "print(passinGradeList, \"\\n\")\n",
    "print(students, \"\\n\")\n",
    "print(sorted(passinGradeList, reverse=True))"
   ]
  },
  {
   "cell_type": "code",
   "execution_count": null,
   "metadata": {},
   "outputs": [],
   "source": []
  }
 ],
 "metadata": {
  "kernelspec": {
   "display_name": "Python 3",
   "language": "python",
   "name": "python3"
  },
  "language_info": {
   "codemirror_mode": {
    "name": "ipython",
    "version": 3
   },
   "file_extension": ".py",
   "mimetype": "text/x-python",
   "name": "python",
   "nbconvert_exporter": "python",
   "pygments_lexer": "ipython3",
   "version": "3.8.3"
  }
 },
 "nbformat": 4,
 "nbformat_minor": 4
}
