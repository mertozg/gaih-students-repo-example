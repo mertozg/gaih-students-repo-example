{
 "cells": [
  {
   "cell_type": "code",
   "execution_count": 11,
   "metadata": {},
   "outputs": [],
   "source": [
    "cv1={\n",
    "    \"name\":\"Mert ÖZGEN\",\n",
    "    \"work\":\"Data Scientist\",\n",
    "    \"age\":\"24\",\n",
    "    \"workingExperience\":\"0\",\n",
    "    \"education\":\"Uludağ University\",\n",
    "    \"languages\":\"English:****,Turkish:*****\"\n",
    "    \n",
    "}\n",
    "cv2={\n",
    "    \"name\":\"Mehmet ALBAYRAK\",\n",
    "    \"work\":\"Mechanical Engineer\",\n",
    "    \"age\":\"22\",\n",
    "    \"workingExperience\":\"12 months\",\n",
    "    \"education\":\"Bogazici University\",\n",
    "    \"languages\":\"English:****,Turkish:*****,German:***\"\n",
    "    \n",
    "}\n",
    "cv3={\n",
    "    \"name\":\"Sena SELVİ\",\n",
    "    \"work\":\"Java developer\",\n",
    "    \"age\":\"21\",\n",
    "    \"workingExperience\":\"0\",\n",
    "    \"education\":\"Dokuz Eylül University\",\n",
    "    \"languages\":\"English:***,Turkish:*****\"\n",
    "    \n",
    "}\n",
    "cv4={\n",
    "    \"name\":\"Belinay KORKMAZ\",\n",
    "    \"work\":\"Front-End Developer\",\n",
    "    \"age\":\"32\",\n",
    "    \"workingExperience\":\"6 years\",\n",
    "    \"education\":\"Uludağ University\",\n",
    "    \"languages\":\"English:*****,Turkish:*****\"\n",
    "    \n",
    "}\n",
    "cv5={\n",
    "    \"name\":\"Hasan AKCAY\",\n",
    "    \"work\":\"Data Scientist\",\n",
    "    \"age\":\"23\",\n",
    "    \"workingExperience\":\"10 months\",\n",
    "    \"education\":\"Uludağ University\",\n",
    "    \"languages\":\"English:**,Turkish:*****\"\n",
    "    \n",
    "}\n"
   ]
  },
  {
   "cell_type": "code",
   "execution_count": 16,
   "metadata": {},
   "outputs": [
    {
     "name": "stdout",
     "output_type": "stream",
     "text": [
      "{'name': 'Mert ÖZGEN', 'work': 'Data Scientist', 'age': '24', 'workingExperience': '0', 'education': 'Uludağ University', 'languages': 'English:****,Turkish:*****'} \n",
      " {'name': 'Mehmet ALBAYRAK', 'work': 'Mechanical Engineer', 'age': '22', 'workingExperience': '12 months', 'education': 'Bogazici University', 'languages': 'English:****,Turkish:*****,German:***'} \n",
      " {'name': 'Sena SELVİ', 'work': 'Java developer', 'age': '21', 'workingExperience': '0', 'education': 'Dokuz Eylül University', 'languages': 'English:***,Turkish:*****'} \n",
      " {'name': 'Belinay KORKMAZ', 'work': 'Front-End Developer', 'age': '32', 'workingExperience': '6 years', 'education': 'Uludağ University', 'languages': 'English:*****,Turkish:*****'} \n",
      " {'name': 'Hasan AKCAY', 'work': 'Data Scientist', 'age': '23', 'workingExperience': '10 months', 'education': 'Uludağ University', 'languages': 'English:**,Turkish:*****'}\n"
     ]
    }
   ],
   "source": [
    "print(cv1,\"\\n\",cv2,\"\\n\",cv3,\"\\n\",cv4,\"\\n\",cv5)"
   ]
  },
  {
   "cell_type": "code",
   "execution_count": null,
   "metadata": {},
   "outputs": [],
   "source": []
  }
 ],
 "metadata": {
  "kernelspec": {
   "display_name": "Python 3",
   "language": "python",
   "name": "python3"
  },
  "language_info": {
   "codemirror_mode": {
    "name": "ipython",
    "version": 3
   },
   "file_extension": ".py",
   "mimetype": "text/x-python",
   "name": "python",
   "nbconvert_exporter": "python",
   "pygments_lexer": "ipython3",
   "version": "3.8.3"
  }
 },
 "nbformat": 4,
 "nbformat_minor": 4
}
