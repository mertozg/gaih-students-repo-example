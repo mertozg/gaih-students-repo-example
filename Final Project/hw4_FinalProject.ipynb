{
 "cells": [
  {
   "cell_type": "code",
   "execution_count": 38,
   "metadata": {},
   "outputs": [
    {
     "name": "stdout",
     "output_type": "stream",
     "text": [
      "4*5 kaça eşittir?: 20\n",
      "Türkiyenin başkenti?: ankara\n",
      "a='HOŞGELDİN',b='BÜŞRA' print(a,b) çıktısı ne olur?: sdasd\n",
      "Dünyanın en büyük yüz ölçümüne sahip ülke?: rusya\n",
      "Pythonda ekrana yazdırma komutu?: print\n",
      "Pythonda değer döndürme komutu nedir?: return\n",
      "len('Machine Learning') komutunun çıktısı nedir?: w\n",
      "liste='Merhaba Dünya!!' liste[5] komutunun cevabı nedir? w\n",
      "a='Artificial intelligence' a[::2] komutunun çıktılarını aralarına virgül koyarak boşluk bırakmadan giriniz: w\n",
      "2**3 çıktısı nedir?w\n",
      "1. Soruya doğru cevap verdiniz tebrikler.\n",
      "2. Soruya doğru cevap verdiniz tebrikler.\n",
      "3. Soruya yanlış cevap verdiniz. \n",
      "4. Soruya doğru cevap verdiniz tebrikler.\n",
      "5. Soruya doğru cevap verdiniz tebrikler.\n",
      "6. Soruya doğru cevap verdiniz tebrikler.\n",
      "7. Soruya yanlış cevap verdiniz. \n",
      "8. Soruya yanlış cevap verdiniz. \n",
      "9. Soruya yanlış cevap verdiniz. \n",
      "10. Soruya yanlış cevap verdiniz. \n",
      "sınavdan 50 alarak sınavdan kaldınız. \n"
     ]
    }
   ],
   "source": [
    "question1=input(\"4*5 kaça eşittir?: \")\n",
    "userAnswer1=question1.upper()\n",
    "question2=input(\"Türkiyenin başkenti?: \")\n",
    "userAnswer2=question2.upper()\n",
    "question3=input(\"a='HOŞGELDİN',b='BÜŞRA' print(a,b) çıktısı ne olur?: \")\n",
    "userAnswer3=question3.upper()\n",
    "question4=input(\"Dünyanın en büyük yüz ölçümüne sahip ülke?: \")\n",
    "userAnswer4=question4.upper()\n",
    "question5=input(\"Pythonda ekrana yazdırma komutu?: \")\n",
    "userAnswer5=question5.upper()\n",
    "question6=input(\"Pythonda değer döndürme komutu nedir?: \")\n",
    "userAnswer6=question6.upper()\n",
    "question7=input(\"len('Machine Learning') komutunun çıktısı nedir?: \")\n",
    "userAnswer7=question7.upper()\n",
    "question8=input(\"liste='Merhaba Dünya!!' liste[5] komutunun cevabı nedir? \")\n",
    "userAnswer8=question8.upper()\n",
    "question9=input(\"a='Artificial intelligence' a[::2] komutunun çıktılarını aralarına virgül koyarak boşluk bırakmadan giriniz: \")\n",
    "userAnswer9=question9.upper()\n",
    "question10=input(\"2**3 çıktısı nedir?\")\n",
    "userAnswer10=question10.upper()\n",
    "\n",
    "answer1=\"20\"\n",
    "answer2=\"Ankara\".upper()\n",
    "answer3=\"HOŞGELDİN BÜŞRA\".upper()\n",
    "answer4=\"Rusya\".upper()\n",
    "answer5=\"print\".upper()\n",
    "answer6=\"return\".upper()\n",
    "answer7=\"16\"\n",
    "answer8=\"b\".upper()\n",
    "answer9=\"A,f,a,n,l,n\".upper()\n",
    "answer10=\"8\"\n",
    "\n",
    "userAnswerList=[userAnswer1,userAnswer2,userAnswer3,userAnswer4,userAnswer5,userAnswer6,userAnswer7,userAnswer8,userAnswer9,userAnswer10]\n",
    "answerList=[answer1,answer2,answer3,answer4,answer5,answer6,answer7,answer8,answer9,answer10]\n",
    "\n",
    "\n",
    "point=0\n",
    "i=0\n",
    "while i<len(userAnswerList):\n",
    "    if userAnswerList[i]==answerList[i]:\n",
    "        print(f\"{i +1}. Soruya doğru cevap verdiniz tebrikler.\")\n",
    "        point +=10\n",
    "    else:\n",
    "        print(f\"{i +1}. Soruya yanlış cevap verdiniz. \")\n",
    "        point =point\n",
    "    i= i+1\n",
    "\n",
    "if point > 50:\n",
    "    print(f\"Sınavdan {point} aldınız sınavı geçtiniz. \")\n",
    "else:\n",
    "    print(f\"sınavdan {point} alarak sınavdan kaldınız. \")\n"
   ]
  },
  {
   "cell_type": "code",
   "execution_count": null,
   "metadata": {},
   "outputs": [],
   "source": []
  }
 ],
 "metadata": {
  "kernelspec": {
   "display_name": "Python 3",
   "language": "python",
   "name": "python3"
  },
  "language_info": {
   "codemirror_mode": {
    "name": "ipython",
    "version": 3
   },
   "file_extension": ".py",
   "mimetype": "text/x-python",
   "name": "python",
   "nbconvert_exporter": "python",
   "pygments_lexer": "ipython3",
   "version": "3.8.3"
  }
 },
 "nbformat": 4,
 "nbformat_minor": 4
}
